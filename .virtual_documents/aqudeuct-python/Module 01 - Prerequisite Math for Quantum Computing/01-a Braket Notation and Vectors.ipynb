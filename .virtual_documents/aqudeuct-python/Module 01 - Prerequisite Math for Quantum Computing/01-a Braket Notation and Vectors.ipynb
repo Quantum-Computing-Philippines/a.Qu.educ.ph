








import numpy as np
import matplotlib.pyplot as plt

np.random.seed(200) ## we set seed numbers to make sure that randomly generated numbers will be the same for everyone.


# set sum values of x
X = [0,1,2,3,4,5,6,7,8,9]

## set the slope and intercept
m, b = -0.25, 2

## determine Y using linear combinations of m and b
y = []
for x in X:
    y.append(m*x + b)

plt.plot(X,y, 'bo-')
plt.text(
    int(len(X)/2),int(b/2), ## x and y coordinates of the text
    fr'$y={m}x+{b}$', fontsize=12)

plt.xlabel('x')
plt.ylabel('y')
plt.grid()
plt.show()





## Creating a Scalar
scalar = 1
## in numpy
scalar_np = np.array(5)

print(scalar)
print(scalar_np)


## Creating a vector in numpy
vector = np.array([1,2,3,5,6,7])

print(vector)





v_1 = np.array([-1,0]) ## first vector
v_2 = np.array([0,1]) ## second vector

plt.title("Resultant Vector")

## the quiver plot plots an arrow corresponding to the coordinates
plt.quiver(
    0,0, 
    v_1[0], v_1[1], 
    angles='xy', scale_units='xy',scale=1, 
    color='red', label=r'$v_1$')
## the first quiver's base is at the origin (0,0) and the tip is at the value of the vector (-1,0)

plt.quiver(
    v_1[0], v_1[1], 
    v_2[0], v_2[1],
    angles='xy', scale_units='xy',scale=1, 
    color='green', label=r'$v_2$')
## the second quiver's base is at the tip of the first vector and the tip is at the value of the second vector plus the first (-1,-1)

v_res = v_1+v_2 ## create a resultant vector

plt.quiver(
    0, 0, 
    v_res[0], v_res[1],
    angles='xy', scale_units='xy',scale=1,
    color='orange', label=r'$v_{res}$')
## the plot of the resultant vector should point to the tip of the second vector.

plt.xlim(-2, 2) ## set the limits of the x-axis
plt.ylim(-2, 2) ## set the limits of the y-axis

plt.legend()
plt.grid() ## show the grid
plt.show()





c = np.arange(-10,10,0.05) ## set of scalars defining the span

plt.scatter(c*v_res[0],c*v_res[1], s=4, color='dodgerblue')

plt.xlim(-2,2)
plt.ylim(-2,2)
plt.axhline(y=0, color='k')
plt.axvline(x=0, color='k')
plt.grid()
plt.show()





## Creating a Matrix (elements)
A = np.array([
    [1,2,3],
    [3,1,0],
    [-1,0,2]
])
A





## Creating a Matrix (vectors)
v1 = np.array([1,2,3])
v2 = np.array([3,2,1])
v3 = np.array([1,-1,-2])
B = np.array([
    2*v1,
    -1*v2,
    0.5*v3
])
B























phi1 = np.array([0, 0, 0])
phi2 = np.array([1, 1, 0])
phi3 = np.array([-1, 2, 0])
phi4 = np.array([2, 5, 3])

phi = phi1 + phi1 + phi1 + phi1 #Eager execution
phi


Phi1 = np.add(phi1, phi1) #functional method
Phi2 = np.add(Phi1, phi3)
Phi3 = np.add(Phi2, phi4)
Phi3


Phi = np.multiply(phi3, phi4)
Phi


Phi_A = phi3 * phi4
Phi_A














a = np.array([1,5,8,9])
S = 5*a
S


S = np.multiply(5,a)
S





X = np.array([1, 1])
Y = np.array([2, -3])
R = np.subtract(np.multiply(3,X),Y) ## functional method
# R = 3*X - Y
R





## Transposing a square matrix
M = np.random.randint(1,5,(3,3))
print(f'Original matrix: \n{M}\n')
print(f'Transposed matrix: \n{M.T}\n')


## Transposing non-square matrices
N = np.random.randint(2,6,(4,3))
print(f'Original matrix: \n{N}\n')
print(f'Transposed matrix: \n{N.T}\n')


## Transposing row/column vectors
v = np.random.randint(2,6,(3,1))
print(f'Original vector: \n{v}\n')
print(f'Transposed vector: \n{v.T}\n')





X = np.array([
    [1,2],
    [0,1]
])
Y = np.array([
    [-1,0],
    [2,2]
])

np.dot(X,Y)





A = np.array([
    [2, 4],
    [5, -2],
    [0, 1]
])
B = np.array([
    [1,1],
    [3,3],
    [-1,-2]
])
C = np.array([
    [0,1,1],
    [1,1,2]
])
print(A.shape)
print(B.shape)
print(C.shape)


A @ C


B @ C





A @ B.T


A @ B











## Row-column inner product
A = np.random.randint(1,10,(1,3)) #(m,n)
B = np.random.randint(1,10,(1,3)) #(i,j)
np.dot(A,B.T) ## (m,j)


## Non-square inner product
A = np.random.randint(1,10,(2,3))
B = np.random.randint(1,10,(3,2))
print(A)
print(B)
A@B


v = np.array([[-1,2]]).T ##[0,1]
A = np.array([
    [0,1],
    [1,0]
])
print(v)
print(A)
A@v





A = np.array([
    [1,4],
    [0,3]
])
np.linalg.det(A)


'''
Now other mathematics classes would require you to solve this by hand, 
and that is great for practicing your memorization and coordination skills 
but in this class we aim for simplicity and speed so we'll use programming
but it's completely fine if you want to try to solve this one by hand.
'''
B = np.array([
    [1,3,5,6],
    [0,3,1,3],
    [3,1,8,2],
    [5,2,6,8]
])
np.linalg.det(B)





## Let's translate the Frobenius norm as code:
def frobenius_norm(n, vector):
    n_sum = np.sum(vector**n)
    vect_norm = np.power(n_sum,1/n)
    return vect_norm





def l1_norm(vector):
    vect_norm = np.sum(vector)
    return vect_norm


v = np.array([1,1,2])

## using our l1 function
# l1_norm(v)

## using our frobenius norm function
frobenius_norm(1, v)





def l2_norm(vector):
    n_sum = np.dot(vector, vector)
    vect_norm = np.sqrt(n_sum)
    return vect_norm


v = np.array([1,1,2])
frobenius_norm(2, v)





np.linalg.norm(v,ord=2)











import matplotlib.pyplot as plt  ## use this one if not in jupyterlab/notebook
# from matplotlib import pyplot as plt
import matplotlib





A = [2,-1]
B = [5,2]
plt.scatter(A[0],A[1], label='A', c='magenta')
plt.scatter(B[0],B[1], label='B', c='mediumspringgreen')

plt.grid()
plt.legend()
plt.show()


A = np.array([-5,0])
B = np.array([0,5])

plt.title("Resultant Vector\nMagnitude:{:.2f}".format(R_mag))

plt.xlim(-15, 15)
plt.ylim(-15, 15)
# print(B)
plt.quiver(0,0, A[0], A[1], angles='xy', scale_units='xy',scale=1, color='red') # Red --> A
plt.quiver(A[0], A[1], B[0], B[1],angles='xy', scale_units='xy',scale=1, color='green')
R = A+B
plt.quiver(0, 0, R[0], R[1],angles='xy', scale_units='xy',scale=1, color='orange')
plt.grid()
plt.show()





R


R_mag = np.sqrt(np.sum(A**2+B**2)) ##Euclidean Distance / Euclidean Norm
rise = R[1]
run = R[0]
slope = rise/run
slope
## angle of the vector? arctan(rise/run)








def plot_quiv(x,t_mat=np.eye(2)):
    x_prime = x @ t_mat
    size= (2,2)
    plt.figure(figsize=(4,4))

    plt.xlim(-size[0],size[0])
    plt.ylim(-size[1],size[1])
    plt.xticks(np.arange((-size[0]), size[0]+1, 1.0))
    plt.yticks(np.arange((-size[1]), size[1]+1, 1.0))


    plt.quiver([0,0],[0,0], x_prime[0,:], x_prime[1,:], 
               angles='xy', scale_units='xy',scale=1, 
               color=['red','blue'])## use column spaces
    plt.grid()
    plt.show()


A = np.array([
    [1, 0],
    [0, 1]
])

plot_quiv(A)





### Repositioning / Translation

t_mat = np.array([
    [-1,0],
    [0,-1]
]) ### -1 * I ## scalar matrix
B = np.array([
              [1,0],
              [0,1]
])
plot_quiv(t_mat@B)
print(t_mat@B)





# Transformation Matrices
shear1 = np.array([
    [1,1],
    [1,1]
])
shear2 = np.array([
    [2,0],
    [2,-1]
])
plot_quiv(B)
print(shear2@B)
plot_quiv(B, shear2)






### Scaling

scale = np.array([
    [2,0],
    [0,2]
])

# scale2 = 0.5*np.eye(2)

plot_quiv(B)
plot_quiv(B, scale)





def rot_matrix(theta):
    theta = np.deg2rad(theta)
    rot_mat = np.array([
        [np.cos(theta), -np.sin(theta)],
        [np.sin(theta), np.cos(theta)]
    ])
    return rot_mat


rotate = rot_matrix(15)
plot_quiv(B)
scale = 0.5*np.eye(2)
plot_quiv(scale@rotate@B)





## helper function for plotting a three-dimensional vector
def plot_3d_quiv(x, azimuth=0, elevation=0):
    fig = plt.figure(figsize=(8,8))
    ax1 = fig.add_subplot(projection='3d')
    ax1.set_xlim([-2, 2])
    ax1.set_ylim([-2, 2])
    ax1.set_zlim([-2, 2])
    ax1.set_xlabel("X (roll)")
    ax1.set_ylabel("Y (pitch)")
    ax1.set_zlabel("Z (yaw)")

    origin = (0,0,0)
    ax1.quiver(origin, origin, origin, x[0,:], x[1,:], x[2,:], 
               arrow_length_ratio=0.1, colors=['red','blue','green'])
    plt.grid()
    ax1.view_init(azim=azimuth, elev=elevation)    
    ax1.set_box_aspect(aspect=None, zoom=0.9)
    plt.show()


X = np.eye(3)
t_mat = np.array([
    [2,0,0],
    [1,2,0],
    [1,0,2]
])
plot_3d_quiv(t_mat@X, 45, 15)





## helper function to apply the rotation matrix for every axis of the object
def rot_matrix_3d(roll, pitch, yaw):
    alpha = [np.deg2rad(roll), np.deg2rad(pitch), np.deg2rad(yaw)]
    roll = np.array([
        [1,0,0],
        [0, np.cos(alpha[0]), -np.sin(alpha[0])],
        [0, np.sin(alpha[0]), np.cos(alpha[0])]
    ])
    pitch = np.array([
        [np.cos(alpha[1]), 0, np.sin(alpha[1])],
        [0 ,1 ,0],
        [-np.sin(alpha[1]), 0, np.cos(alpha[1])]
    ])
    yaw = np.array([
        [np.cos(alpha[2]), -np.sin(alpha[2]), 0],
        [np.sin(alpha[2]), np.cos(alpha[2]), 0],
        [0,0,1]
    ])
    return roll, pitch, yaw





## Let's say for example M is an airplane.
M = np.array([
    [3,0,0], ## red (body of a plane)
    [0,1.5,0], ## green (rudder of a plane)
    [0,0,1] ## blue (wing of a plane)
])

r_x, r_y, r_z = rot_matrix_3d(roll=0,pitch=0,yaw=30)
rotation_matrix = r_x @ r_y @ r_z
airplane_simul = rotation_matrix@M
plot_3d_quiv(airplane_simul, 
             azimuth=45,elevation=30
            )
