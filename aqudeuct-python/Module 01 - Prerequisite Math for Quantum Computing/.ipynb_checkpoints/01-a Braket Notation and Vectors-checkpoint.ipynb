{
 "cells": [
  {
   "cell_type": "markdown",
   "metadata": {
    "id": "ZTqQO2UylNbS"
   },
   "source": [
    "# Module 01-a: Braket Notation and Vectors"
   ]
  },
  {
   "cell_type": "markdown",
   "metadata": {
    "id": "yGymCPhWlNbX"
   },
   "source": [
    "Welcome to the first lesson in OneQuantum PH's pre-requisite mathematics for Quantum Computing!\n",
    "\n",
    "In this first notebook, we'll get to know linear algebra as one of the fundamental mathematics for quantum computing. Linear Algebra might be daunting for those not in the Physics or Engineering fields, but don't fret! We will start soft and slow with linear algebra before getting into the nitty gritty math. To help, we will also use Python and Jupyter Notebooks to practice your computational thinking so we can work up to quantum computing. Let's get started!\n",
    "\n",
    "An advantage of using software tools for linear algebra or with any applied field of mathematics is that it abstracts the processes or hastens computations so that engineers or scientists can interpret results faster. Software-based mathematics could also help develop better intuition in how math works and how it reacts to certain stimuli or as part of a system. In this notebook, we will use Python, specifically the `numpy` library for computation and `matplotlib` for visualization.\n",
    "\n",
    "The rest of the notebook will be structured as follows:\n",
    ">1. [Linearity and Vectors](#1.-Linearity-and-Vectors)\n",
    ">    - [Vectors](#Vectors)\n",
    ">    - [Matrices](#Matrices)\n",
    ">2. [Vector Operations](#2.-Vector-Operations)\n",
    ">    - [Vector Arithmetic](#Vector-Arithmetic)\n",
    ">    - [Transposition](#Transposition)\n",
    ">    - [Inner Product](#Inner-Product)\n",
    ">3. [Vector Norm](#3.-Vector-Norm)\n",
    ">    - [L1 Norm](#L1-Norm)\n",
    ">    - [L2 Norm](#L2-Norm)\n",
    ">5. [Linear Transformations](#4.-Linear-Transformations)\n",
    ">    - [2D Transformations](#2D-Transformations)\n",
    ">    - [3D Transformations](#3D-Transformations)"
   ]
  },
  {
   "cell_type": "markdown",
   "metadata": {
    "id": "C1GpL8rrlNbY"
   },
   "source": [
    "## 1. Linearity and Vectors\n",
    "\n",
    "The main assumption in linear algebra is that everything that we are working with lines or that we are dealing with the linear properties of an entity in the world. The bottom line is that, in linear algebra, we assume that the objects we are manipulating have a linear component or can be represented by many lines.\n",
    "\n",
    "The first concept that you would need to get a grasp of is the linear combination. It just simply tells you that for a line $y$ it can be described by several properties $x$ that are either scaled or flipped. \n",
    "\n",
    "$$y = a_0x_0 + a_1x_1 + a_2x_2 + ... + a_{n-1}x_{n-1}+ a_nx_n$$ \n",
    "$$_{(\\text{Eq. 1.1})}$$\n",
    "\n",
    "One of the most famous linear combinations is the point-slope formula from elementary Geometry\n",
    "\n",
    "$$y = mx + b$$\n",
    "$$_{(\\text{Eq. 1.2})}$$\n",
    "\n",
    "Where the slope $m$ is a scalar of some value $x$ while the y-intercept $b$ is the scalar of $x=0$ (the origin).\n",
    "\n",
    "The idea of doing linear algebra in code is part of computational programming. We take advantage of the logic and arithmetic of linear algebra and code them to apply the theory. We can immediately see the transformation of data and how they are represented.\n",
    "\n",
    "In this discussion we will be using `numpy` as the main library for computation and `matplotlib` for visualizing the data."
   ]
  },
  {
   "cell_type": "code",
   "execution_count": null,
   "metadata": {},
   "outputs": [],
   "source": [
    "import numpy as np\n",
    "import matplotlib.pyplot as plt\n",
    "\n",
    "np.random.seed(200) ## we set seed numbers to make sure that randomly generated numbers will be the same for everyone."
   ]
  },
  {
   "cell_type": "code",
   "execution_count": null,
   "metadata": {},
   "outputs": [],
   "source": [
    "# set sum values of x\n",
    "X = [0,1,2,3,4,5,6,7,8,9]\n",
    "\n",
    "## set the slope and intercept\n",
    "m, b = -0.25, 2\n",
    "\n",
    "## determine Y using linear combinations of m and b\n",
    "y = []\n",
    "for x in X:\n",
    "    y.append(m*x + b)\n",
    "\n",
    "plt.plot(X,y, 'bo-')\n",
    "plt.text(\n",
    "    int(len(X)/2),int(b/2), ## x and y coordinates of the text\n",
    "    fr'$y={m}x+{b}$', fontsize=12)\n",
    "\n",
    "plt.xlabel('x')\n",
    "plt.ylabel('y')\n",
    "plt.grid()\n",
    "plt.show()"
   ]
  },
  {
   "cell_type": "markdown",
   "metadata": {},
   "source": [
    "### Vectors\n",
    "\n",
    "If the linear combination of a $y$ would have too many $x$ values it would be a drag to write them in a long line. A more convenient representation of the linear combination is to represent them as a group of numbers. We now consider the concept of inner products where it is simply the sum of products of scalars and $x$.\n",
    "\n",
    "We first group the scalars and $x$'s by parentheses like so:\n",
    "\n",
    "$$\\hat{a} = \\begin{pmatrix} a_0 \\\\ a_1 \\\\ a_2 \\\\ \\vdots \\\\ a_{n-1} \\\\ a_n \\end{pmatrix}, \\hat{x} = \\begin{pmatrix} x_0 \\\\ x_1 \\\\ x_2 \\\\ \\vdots \\\\ x_{n-1} \\\\ x_n \\end{pmatrix}$$\n",
    "$$_{(\\text{Eq. 1.3})}$$\n",
    "\n",
    "We now call $\\hat{a}$ a vector containing scalars $\\hat{a}$ and $\\hat{x}$ containing $a$'s and $x$'s respectively. We then get the inner product between $\\hat{a}$ and $\\hat{x}$ to produce some vector $y$:\n",
    "\n",
    "$$y = \\hat{a} \\cdot \\hat{x} = \\begin{pmatrix} a_0 \\\\ a_1 \\\\ a_2 \\\\ \\vdots \\\\ a_{n-1} \\\\ a_n \\end{pmatrix} \\cdot \\begin{pmatrix} x_0 \\\\ x_1 \\\\ x_2 \\\\ \\vdots \\\\ x_{n-1} \\\\ x_n \\end{pmatrix} = a_0x_0 + a_1x_1 + a_2x_2 + ... + a_{n-1}x_{n-1} + a_n$$\n",
    "$$_{(\\text{Eq. 1.4})}$$\n",
    "\n",
    "Vectors are the most fundamental concept in linear algebra. Vectors in the computer science aspect are the collection of **scalars** or numbers; or in the mathematical perspective, these are representations of a point in space. We can mathematically represent vectors as:\n",
    "\n",
    "$$\\mathbf{v} = \\begin{pmatrix} a_0 & a_1 & a_2 & ... & a_{n-1} & a_n \\end{pmatrix}$$\n",
    "$$_{(\\text{Eq. 1.5})}$$"
   ]
  },
  {
   "cell_type": "code",
   "execution_count": null,
   "metadata": {},
   "outputs": [],
   "source": [
    "## Creating a Scalar\n",
    "scalar = 1\n",
    "## in numpy\n",
    "scalar_np = np.array(5)\n",
    "\n",
    "print(scalar)\n",
    "print(scalar_np)"
   ]
  },
  {
   "cell_type": "code",
   "execution_count": null,
   "metadata": {},
   "outputs": [],
   "source": [
    "## Creating a vector in numpy\n",
    "vector = np.array([1,2,3,5,6,7])\n",
    "\n",
    "print(vector)"
   ]
  },
  {
   "cell_type": "markdown",
   "metadata": {},
   "source": [
    "There are mainly two ways to visualize vectors. The first way is to consider them as line segments, the second is as basis for a continuous line. Let us try to visualize these two ways. For the line segment visualization, this is the usual representation in Physics and engineering for vector analysis. Similar concepts of **vector resultants** are easier to understand in this kind of visualization."
   ]
  },
  {
   "cell_type": "code",
   "execution_count": null,
   "metadata": {},
   "outputs": [],
   "source": [
    "v_1 = np.array([-1,0]) ## first vector\n",
    "v_2 = np.array([0,1]) ## second vector\n",
    "\n",
    "plt.title(\"Resultant Vector\")\n",
    "\n",
    "## the quiver plot plots an arrow corresponding to the coordinates\n",
    "plt.quiver(\n",
    "    0,0, \n",
    "    v_1[0], v_1[1], \n",
    "    angles='xy', scale_units='xy',scale=1, \n",
    "    color='red', label=r'$v_1$')\n",
    "## the first quiver's base is at the origin (0,0) and the tip is at the value of the vector (-1,0)\n",
    "\n",
    "plt.quiver(\n",
    "    v_1[0], v_1[1], \n",
    "    v_2[0], v_2[1],\n",
    "    angles='xy', scale_units='xy',scale=1, \n",
    "    color='green', label=r'$v_2$')\n",
    "## the second quiver's base is at the tip of the first vector and the tip is at the value of the second vector plus the first (-1,-1)\n",
    "\n",
    "v_res = v_1+v_2 ## create a resultant vector\n",
    "\n",
    "plt.quiver(\n",
    "    0, 0, \n",
    "    v_res[0], v_res[1],\n",
    "    angles='xy', scale_units='xy',scale=1,\n",
    "    color='orange', label=r'$v_{res}$')\n",
    "## the plot of the resultant vector should point to the tip of the second vector.\n",
    "\n",
    "plt.xlim(-2, 2) ## set the limits of the x-axis\n",
    "plt.ylim(-2, 2) ## set the limits of the y-axis\n",
    "\n",
    "plt.legend()\n",
    "plt.grid() ## show the grid\n",
    "plt.show()"
   ]
  },
  {
   "cell_type": "markdown",
   "metadata": {},
   "source": [
    "The other way to visualize vectors is to consider **spans**. The span of a vector can be thought of as a line passing through the values of the vector. The span of a vector is considered to be the set of all possible linear combinations of a vector. This can be best represented as:\n",
    "$$\\text{Span}({v}) = c\\cdot \\hat{v}$$\n",
    "$$_{(\\text{Eq. 1.6})}$$\n",
    "Whereas $c$ is a scalar multiplied by the vector $\\hat{v}$ such that $c \\in \\mathbb{R}$. "
   ]
  },
  {
   "cell_type": "code",
   "execution_count": null,
   "metadata": {},
   "outputs": [],
   "source": [
    "c = np.arange(-10,10,0.05) ## set of scalars defining the span\n",
    "\n",
    "plt.scatter(c*v_res[0],c*v_res[1], s=4, color='dodgerblue')\n",
    "\n",
    "plt.xlim(-2,2)\n",
    "plt.ylim(-2,2)\n",
    "plt.axhline(y=0, color='k')\n",
    "plt.axvline(x=0, color='k')\n",
    "plt.grid()\n",
    "plt.show()"
   ]
  },
  {
   "cell_type": "markdown",
   "metadata": {},
   "source": [
    "### Matrices\n",
    "Matrices are collections of scalars that could be represented in a lattice-like arrangement with $m$ rows and $n$ columns. It takes on a form like this:\n",
    "$$\\mathbf{M} = \\begin{pmatrix} a_{00} & a_{01} & a_{02} & ...  & a_{0n} \\\\ a_{10} & a_{11} & a_{12} & ... & a_{1n} \\\\ a_{20} & a_{21} & a_{22} & ... & a_{2n} \\\\ \\vdots & \\vdots & \\vdots & \\ddots & \\vdots\\\\ a_{m0} & a_{m1} & a_{m2} & ... & a_{mn} \\end{pmatrix} $$\n",
    "$$_{(\\text{Eq. 1.7})}$$\n"
   ]
  },
  {
   "cell_type": "code",
   "execution_count": null,
   "metadata": {},
   "outputs": [],
   "source": [
    "## Creating a Matrix (elements)\n",
    "A = np.array([\n",
    "    [1,2,3],\n",
    "    [3,1,0],\n",
    "    [-1,0,2]\n",
    "])\n",
    "A"
   ]
  },
  {
   "cell_type": "markdown",
   "metadata": {},
   "source": [
    "You can also think that matrices are collections of scaled vectors like this:\n",
    "$$\\mathbf{M} = \\begin{pmatrix} a_0 \\cdot v_0 \\\\ a_1 \\cdot v_1 \\\\ \\vdots \\\\ a_n\\cdot v_n \\end{pmatrix}$$\n",
    "$$_{(\\text{Eq. 1.8})}$$"
   ]
  },
  {
   "cell_type": "code",
   "execution_count": null,
   "metadata": {},
   "outputs": [],
   "source": [
    "## Creating a Matrix (vectors)\n",
    "v1 = np.array([1,2,3])\n",
    "v2 = np.array([3,2,1])\n",
    "v3 = np.array([1,-1,-2])\n",
    "B = np.array([\n",
    "    2*v1,\n",
    "    -1*v2,\n",
    "    0.5*v3\n",
    "])\n",
    "B"
   ]
  },
  {
   "cell_type": "markdown",
   "metadata": {},
   "source": [
    "## 3. The Braket Notation"
   ]
  },
  {
   "cell_type": "markdown",
   "metadata": {},
   "source": [
    "## 4. Vector Operations\n",
    "\n",
    "Operations on vectors increases the efficiency of computing group of numbers, thus improving signal operations. Vector oprations include arithmetic operations, transposition, and the inner product."
   ]
  },
  {
   "cell_type": "markdown",
   "metadata": {},
   "source": [
    "### Vector Arithmetic\n",
    "\n",
    "Vector arithmetic is the most fundamental operation in vector algebra. The operation for arithmetic is done element-wise thus the assumption for such operations is that the vecotrs are of equal shape. The element-wise and scalar arithmetic can be done in Python such as addition, subtraction, multiplication, division, exponentiation, and even other transcendental transformations."
   ]
  },
  {
   "cell_type": "markdown",
   "metadata": {
    "id": "uSiTIqp9lNbd"
   },
   "source": [
    "#### *Addition*"
   ]
  },
  {
   "cell_type": "markdown",
   "metadata": {
    "id": "ML7a5qLWlNbe"
   },
   "source": [
    "The addition rule is simple, the we just need to add the elements of the matrices according to their index. So in this case if we add vector $A$ and vector $B$ we will have a resulting vector:"
   ]
  },
  {
   "cell_type": "markdown",
   "metadata": {
    "id": "AUN2WQiqlNbe"
   },
   "source": [
    "$$R = 6\\hat{x}-2\\hat{y} = \\begin{bmatrix} 6 \\\\ -2\\end{bmatrix} $$"
   ]
  },
  {
   "cell_type": "markdown",
   "metadata": {
    "id": "kPO9b7BTlNbe"
   },
   "source": [
    "So let's try to do that in NumPy in several number of ways:"
   ]
  },
  {
   "cell_type": "code",
   "execution_count": 29,
   "metadata": {
    "colab": {
     "base_uri": "https://localhost:8080/"
    },
    "id": "3mdhj7D_lNbe",
    "outputId": "0be70bec-1d35-43a7-ede8-3c8929bb0880"
   },
   "outputs": [
    {
     "data": {
      "text/plain": [
       "array([2, 8, 3])"
      ]
     },
     "execution_count": 29,
     "metadata": {
      "tags": []
     },
     "output_type": "execute_result"
    }
   ],
   "source": [
    "position1 = np.array([0, 0, 0])\n",
    "position2 = np.array([1, 1, 0])\n",
    "position3 = np.array([-1, 2, 0])\n",
    "position4 = np.array([2, 5, 3])\n",
    "\n",
    "R = position1 + position2 + position3 + position4 #Eager execution\n",
    "R"
   ]
  },
  {
   "cell_type": "code",
   "execution_count": 25,
   "metadata": {
    "colab": {
     "base_uri": "https://localhost:8080/"
    },
    "id": "-C7BViEyuqqP",
    "outputId": "f836bf97-68ea-4702-854a-8faecfa77623"
   },
   "outputs": [
    {
     "data": {
      "text/plain": [
       "array([2, 7, 3])"
      ]
     },
     "execution_count": 25,
     "metadata": {
      "tags": []
     },
     "output_type": "execute_result"
    }
   ],
   "source": [
    "R1 = np.add(position1,position2) #functional method\n",
    "R2 = np.add(R1,position3)\n",
    "R3 = np.add(R2,position4)\n",
    "R3"
   ]
  },
  {
   "cell_type": "code",
   "execution_count": 30,
   "metadata": {
    "colab": {
     "base_uri": "https://localhost:8080/"
    },
    "id": "kEO937WdlNbf",
    "outputId": "d878350b-ed42-4f0e-dc82-f5dd55d485fd"
   },
   "outputs": [
    {
     "data": {
      "text/plain": [
       "array([-2, 10,  0])"
      ]
     },
     "execution_count": 30,
     "metadata": {
      "tags": []
     },
     "output_type": "execute_result"
    }
   ],
   "source": [
    "Rm = np.multiply(position3, position4)\n",
    "Rm"
   ]
  },
  {
   "cell_type": "code",
   "execution_count": 32,
   "metadata": {
    "colab": {
     "base_uri": "https://localhost:8080/"
    },
    "id": "ROlkyqe1lNbf",
    "outputId": "69fbcdc0-3664-4de6-c79e-c963bd36a2e2"
   },
   "outputs": [
    {
     "data": {
      "text/plain": [
       "array([-2, 10,  0])"
      ]
     },
     "execution_count": 32,
     "metadata": {
      "tags": []
     },
     "output_type": "execute_result"
    }
   ],
   "source": [
    "Rm = position3 * position4\n",
    "Rm"
   ]
  },
  {
   "cell_type": "markdown",
   "metadata": {
    "id": "t10OsHFBlNbg"
   },
   "source": [
    "##### Try for yourself!"
   ]
  },
  {
   "cell_type": "markdown",
   "metadata": {
    "id": "5aopNzDblNbg"
   },
   "source": [
    "Try to implement subtraction and division with vectors $A$ and $B$!"
   ]
  },
  {
   "cell_type": "code",
   "execution_count": null,
   "metadata": {
    "id": "4tVbrc20lNbg"
   },
   "outputs": [],
   "source": [
    "### Try out you code here! Don't forget to take a screenshot or a selfie!\n",
    "\n"
   ]
  },
  {
   "cell_type": "markdown",
   "metadata": {
    "id": "VtXOcksglNbg"
   },
   "source": [
    "$$\n",
    "W = \\hat{x} + \\hat{y}\\\\\n",
    "T = -2\\hat{x} -3\\hat{y}\\\\\n",
    "R3 = W + (T*-W)\n",
    "$$"
   ]
  },
  {
   "cell_type": "code",
   "execution_count": null,
   "metadata": {
    "id": "_dZycVnHlNbh"
   },
   "outputs": [],
   "source": [
    "W = np.array([1, 1])\n",
    "T = np.array([-2, -3])\n",
    "# R3 = np.add(W,np.multiply(T,np.multiply(-1,W)))\n",
    "R3 = W + (T*(-1*W))\n",
    "R3"
   ]
  },
  {
   "cell_type": "markdown",
   "metadata": {
    "id": "ZqWA5fWrlNbh"
   },
   "source": [
    "##### *Scaling*"
   ]
  },
  {
   "cell_type": "markdown",
   "metadata": {
    "id": "lDWlXbd2lNbh"
   },
   "source": [
    "Scaling or scalar multiplication takes a scalar value and performs multiplication with a vector. Let's take the example below:"
   ]
  },
  {
   "cell_type": "markdown",
   "metadata": {
    "id": "k72BhN56lNbh"
   },
   "source": [
    "$$S = 5 \\cdot A$$"
   ]
  },
  {
   "cell_type": "markdown",
   "metadata": {
    "id": "o4Dab9KjlNbh"
   },
   "source": [
    "We can do this in numpy through:"
   ]
  },
  {
   "cell_type": "code",
   "execution_count": 35,
   "metadata": {
    "colab": {
     "base_uri": "https://localhost:8080/"
    },
    "id": "-QJAOJ2blNbh",
    "outputId": "55fa3d05-53cd-433a-e9d0-5740cc77c7df"
   },
   "outputs": [
    {
     "data": {
      "text/plain": [
       "array([ 5, 25, 40, 45])"
      ]
     },
     "execution_count": 35,
     "metadata": {
      "tags": []
     },
     "output_type": "execute_result"
    }
   ],
   "source": [
    "A = np.array([1,5,8,9])\n",
    "S = 5*A\n",
    "S"
   ]
  },
  {
   "cell_type": "code",
   "execution_count": 36,
   "metadata": {
    "colab": {
     "base_uri": "https://localhost:8080/"
    },
    "id": "W_KbMakLlNbi",
    "outputId": "78743502-2d25-4c2c-ce58-72bb800f4ae8"
   },
   "outputs": [
    {
     "data": {
      "text/plain": [
       "array([ 5, 25, 40, 45])"
      ]
     },
     "execution_count": 36,
     "metadata": {
      "tags": []
     },
     "output_type": "execute_result"
    }
   ],
   "source": [
    "S = np.multiply(5,A)\n",
    "S"
   ]
  },
  {
   "cell_type": "markdown",
   "metadata": {
    "id": "qz4wpIeylNbi"
   },
   "source": [
    "$$R = 3X - Y$$ $$X = \\hat{x} + \\hat{y} , Y = 2\\hat{x} - 3\\hat{y}$$"
   ]
  },
  {
   "cell_type": "code",
   "execution_count": 38,
   "metadata": {
    "colab": {
     "base_uri": "https://localhost:8080/"
    },
    "id": "SQ1XFrRBlNbi",
    "outputId": "7b27e400-78a9-4457-aa74-2605ebef792f"
   },
   "outputs": [
    {
     "data": {
      "text/plain": [
       "array([1, 6])"
      ]
     },
     "execution_count": 38,
     "metadata": {
      "tags": []
     },
     "output_type": "execute_result"
    }
   ],
   "source": [
    "X = np.array([1, 1])\n",
    "Y = np.array([2, -3])\n",
    "R = np.subtract(np.multiply(3,X),Y) ## functional method\n",
    "# R = 3*X - Y\n",
    "R"
   ]
  },
  {
   "cell_type": "markdown",
   "metadata": {},
   "source": [
    "### Transposition\n",
    "The transposition operation flips the matrix along its diagonal. In mathematical terms it will for some matrix $\\mathbf{M}$ its tranposed form will be $\\mathbf{M}^T$:\n",
    "$$\\mathbf{M} = \\begin{pmatrix} a_{00} & a_{01} & a_{02} \\\\ a_{10} & a_{11} & a_{12} \\\\ a_{20} & a_{21} & a_{22}\\end{pmatrix} ; \\mathbf{M}^T = \\begin{pmatrix} a_{00} & a_{10} & a_{20} \\\\ a_{01} & a_{11} & a_{21} \\\\ a_{02} & a_{12} & a_{22}\\end{pmatrix}$$\n",
    "\n",
    "$$_{(\\text{Eq. 1.9})}$$"
   ]
  },
  {
   "cell_type": "code",
   "execution_count": null,
   "metadata": {},
   "outputs": [],
   "source": [
    "## Transposing a square matrix\n",
    "M = np.random.randint(1,5,(3,3))\n",
    "print(f'Original matrix: \\n{M}\\n')\n",
    "print(f'Transposed matrix: \\n{M.T}\\n')"
   ]
  },
  {
   "cell_type": "code",
   "execution_count": null,
   "metadata": {},
   "outputs": [],
   "source": [
    "## Transposing non-square matrices\n",
    "N = np.random.randint(2,6,(4,3))\n",
    "print(f'Original matrix: \\n{N}\\n')\n",
    "print(f'Transposed matrix: \\n{N.T}\\n')"
   ]
  },
  {
   "cell_type": "code",
   "execution_count": null,
   "metadata": {},
   "outputs": [],
   "source": [
    "## Transposing row/column vectors\n",
    "v = np.random.randint(2,6,(3,1))\n",
    "print(f'Original vector: \\n{v}\\n')\n",
    "print(f'Transposed vector: \\n{v.T}\\n')"
   ]
  },
  {
   "cell_type": "markdown",
   "metadata": {},
   "source": [
    "### Inner Product\n",
    "The inner product is one of the most essential operations in linear algebra. It solves for the linear combination of the vectors and matrices. The inner product is not always commutative. \n",
    "\n",
    "The inner product of a matrix can be solved only if the number of columns in the first vector is equal to the number of rows in the second vector. So if the first matrix is $\\mathbf{X}$ has a shape of $(m,n)$ and the second matrix is $\\mathbf{Y}$ has a shape of $(i,j)$, then you can perform $XY$ if $n=i$. Say for example:\n",
    "\n",
    "$$X = \\begin{bmatrix}x_{(0,0)}&x_{(0,1)}\\\\ x_{(1,0)}&x_{(1,1)}\\end{bmatrix}Y = \\begin{bmatrix}y_{(0,0)}&y_{(0,1)}\\\\ y_{(1,0)}&y_{(1,1)}\\end{bmatrix}$$\n",
    "$$_{(\\text{Eq. 1.10})}$$\n",
    "\n",
    "The dot product will then be computed as:\n",
    "$$X \\cdot Y= \\begin{bmatrix} x_{(0,0)}*y_{(0,0)} + x_{(0,1)}*y_{(1,0)} & x_{(0,0)}*y_{(0,1)} + x_{(0,1)}*y_{(1,1)} \\\\  x_{(1,0)}*y_{(0,0)} + x_{(1,1)}*y_{(1,0)} & x_{(1,0)}*y_{(0,1)} + x_{(1,1)}*y_{(1,1)}\n",
    "\\end{bmatrix}$$\n",
    "$$_{(\\text{Eq. 1.11})}$$\n",
    "\n",
    "So if we assign values to $X$ and $Y$:\n",
    "$$X = \\begin{bmatrix}1&2\\\\ 0&1\\end{bmatrix}, Y = \\begin{bmatrix}-1&0\\\\ 2&2\\end{bmatrix}$$\n",
    "$$_{(\\text{Eq. 1.12})}$$"
   ]
  },
  {
   "cell_type": "code",
   "execution_count": null,
   "metadata": {},
   "outputs": [],
   "source": [
    "X = np.array([\n",
    "    [1,2],\n",
    "    [0,1]\n",
    "])\n",
    "Y = np.array([\n",
    "    [-1,0],\n",
    "    [2,2]\n",
    "])\n",
    "\n",
    "np.dot(X,Y)"
   ]
  },
  {
   "cell_type": "markdown",
   "metadata": {},
   "source": [
    "In matrix dot products there are additional rules compared with vector dot products. Since vector dot products were just in one dimension there were fewer restrictions. Since we are now dealing with Rank 2 vectors we need to consider some rules:\n",
    "\n",
    "**Rule 1: The inner dimensions of the two matrices in question must be the same.**\n",
    "\n",
    "So given a matrix $A$ with a shape of $(a,b)$ where $a$ and $b$ are any integers. If we want to do a dot product between $A$ and another matrix $B$, then matrix $B$ should have a shape of $(b,c)$ where $b$ and $c$ are any integers. So for given the following matrices:\n",
    "\n",
    "$$A = \\begin{bmatrix}2&4\\\\5&-2\\\\0&1\\end{bmatrix}, B = \\begin{bmatrix}1&1\\\\3&3\\\\-1&-2\\end{bmatrix}, C = \\begin{bmatrix}0&1&1\\\\1&1&3\\end{bmatrix}$$\n",
    "$$_{(\\text{Eq. 1.13})}$$\n",
    "So in this case $A$ has a shape of $(3,2)$, $B$ has a shape of $(3,2)$ and $C$ has a shape of $(2,3)$. So the only matrix pairs eligible to perform dot product are matrices $A \\cdot C$, or $B \\cdot C$.  "
   ]
  },
  {
   "cell_type": "code",
   "execution_count": null,
   "metadata": {},
   "outputs": [],
   "source": [
    "A = np.array([\n",
    "    [2, 4],\n",
    "    [5, -2],\n",
    "    [0, 1]\n",
    "])\n",
    "B = np.array([\n",
    "    [1,1],\n",
    "    [3,3],\n",
    "    [-1,-2]\n",
    "])\n",
    "C = np.array([\n",
    "    [0,1,1],\n",
    "    [1,1,2]\n",
    "])\n",
    "print(A.shape)\n",
    "print(B.shape)\n",
    "print(C.shape)"
   ]
  },
  {
   "cell_type": "code",
   "execution_count": null,
   "metadata": {},
   "outputs": [],
   "source": [
    "A @ C"
   ]
  },
  {
   "cell_type": "code",
   "execution_count": null,
   "metadata": {},
   "outputs": [],
   "source": [
    "B @ C"
   ]
  },
  {
   "cell_type": "markdown",
   "metadata": {},
   "source": [
    "If you would notice the shape of the dot product changed and its shape is not the same as any of the matrices we used. The shape of a dot product is actually derived from the shapes of the matrices used. So recall matrix $A$ with a shape of $(a,b)$ and matrix $B$ with a shape of $(b,c)$, $A \\cdot B$ should have a shape $(a,c)$."
   ]
  },
  {
   "cell_type": "code",
   "execution_count": null,
   "metadata": {},
   "outputs": [],
   "source": [
    "A @ B.T"
   ]
  },
  {
   "cell_type": "code",
   "execution_count": null,
   "metadata": {},
   "outputs": [],
   "source": [
    "A @ B"
   ]
  },
  {
   "cell_type": "markdown",
   "metadata": {},
   "source": [
    "And you can see that when you try to multiply A and B, it returns `ValueError` pertaining to matrix shape mismatch."
   ]
  },
  {
   "cell_type": "markdown",
   "metadata": {},
   "source": [
    "**Rule 2: Dot Product has special properties**\n",
    "\n",
    "Dot products are prevalent in matrix algebra, this implies that it has several unique properties and it should be considered when formulation solutions:\n",
    " 1. $A \\cdot B \\neq B \\cdot A$\n",
    " 2. $A \\cdot (B \\cdot C) = (A \\cdot B) \\cdot C$\n",
    " 3. $A\\cdot(B+C) = A\\cdot B + A\\cdot C$\n",
    " 4. $(B+C)\\cdot A = B\\cdot A + C\\cdot A$\n",
    " 5. $A\\cdot I = A$\n",
    " 6. $A\\cdot \\emptyset = \\emptyset$ "
   ]
  },
  {
   "cell_type": "markdown",
   "metadata": {},
   "source": [
    "**Other Examples of Inner Product**"
   ]
  },
  {
   "cell_type": "code",
   "execution_count": null,
   "metadata": {},
   "outputs": [],
   "source": [
    "## Row-column inner product\n",
    "A = np.random.randint(1,10,(1,3)) #(m,n)\n",
    "B = np.random.randint(1,10,(1,3)) #(i,j)\n",
    "np.dot(A,B.T) ## (m,j)"
   ]
  },
  {
   "cell_type": "code",
   "execution_count": null,
   "metadata": {},
   "outputs": [],
   "source": [
    "## Non-square inner product\n",
    "A = np.random.randint(1,10,(2,3))\n",
    "B = np.random.randint(1,10,(3,2))\n",
    "print(A)\n",
    "print(B)\n",
    "A@B"
   ]
  },
  {
   "cell_type": "code",
   "execution_count": null,
   "metadata": {},
   "outputs": [],
   "source": [
    "v = np.array([[-1,2]]).T ##[0,1]\n",
    "A = np.array([\n",
    "    [0,1],\n",
    "    [1,0]\n",
    "])\n",
    "print(v)\n",
    "print(A)\n",
    "A@v"
   ]
  },
  {
   "cell_type": "markdown",
   "metadata": {},
   "source": [
    "### Determinant\n",
    "\n",
    "A determinant is a scalar value derived from a square matrix. The determinant is a fundamental and important value used in matrix algebra. Although it will not be evident in this laboratory how it can be used practically, it will be really used in future lessons.\n",
    "\n",
    "The determinant of some matrix $A$ is denoted as $det(A)$ or $|A|$. So let's say $A$ is represented as:\n",
    "$$A = \\begin{bmatrix}a_{(0,0)}&a_{(0,1)}\\\\a_{(1,0)}&a_{(1,1)}\\end{bmatrix}$$\n",
    "\n",
    "$$_{(\\text{Eq. 1.14})}$$\n",
    "We can compuute compfor the determinant as:\n",
    "$$|A| = a_{(0,0)}*a_{(1,1)} - a_{(1,0)}*a_{(0,1)}$$\n",
    "\n",
    "$$_{(\\text{Eq. 1.15})}$$\n",
    "So if we have $A$ as:\n",
    "$$A = \\begin{bmatrix}1&4\\\\0&3\\end{bmatrix}, |A | = 3$$\n",
    "$$_{(\\text{Eq. 1.16})}$$\n",
    "\n",
    "But you might wonder how about square matrices beyond the shape $(2,2)$? We can approach this problem by using several methods such as co-factor expansion and the minors method. This can be taught in the lecture of the laboratory but we can achieve the strenuous computation of high-dimensional matrices programmatically using Python. We can achieve this by using `np.linalg.det()`."
   ]
  },
  {
   "cell_type": "code",
   "execution_count": null,
   "metadata": {},
   "outputs": [],
   "source": [
    "A = np.array([\n",
    "    [1,4],\n",
    "    [0,3]\n",
    "])\n",
    "np.linalg.det(A)"
   ]
  },
  {
   "cell_type": "code",
   "execution_count": null,
   "metadata": {},
   "outputs": [],
   "source": [
    "'''\n",
    "Now other mathematics classes would require you to solve this by hand, \n",
    "and that is great for practicing your memorization and coordination skills \n",
    "but in this class we aim for simplicity and speed so we'll use programming\n",
    "but it's completely fine if you want to try to solve this one by hand.\n",
    "'''\n",
    "B = np.array([\n",
    "    [1,3,5,6],\n",
    "    [0,3,1,3],\n",
    "    [3,1,8,2],\n",
    "    [5,2,6,8]\n",
    "])\n",
    "np.linalg.det(B)"
   ]
  },
  {
   "cell_type": "markdown",
   "metadata": {},
   "source": [
    "## 5. Vector Norm\n",
    "\n",
    "The norm of a vector describes its magnitude along a dimension. In calculations in machine learning, we often use norms in the first and second dimensions, we call these the L1 and L2 norm. The general formula for the vector norm is called the Frobenius norm:\n",
    "$$||\\mathbf{M}||_n = \\Biggl(\\sum^N_{i=0}m_i^n\\Biggr)^{1/n}$$\n",
    "$$_{(\\text{Eq. 1.17})}$$"
   ]
  },
  {
   "cell_type": "code",
   "execution_count": null,
   "metadata": {},
   "outputs": [],
   "source": [
    "## Let's translate the Frobenius norm as code:\n",
    "def frobenius_norm(n, vector):\n",
    "    n_sum = np.sum(vector**n)\n",
    "    vect_norm = np.power(n_sum,1/n)\n",
    "    return vect_norm"
   ]
  },
  {
   "cell_type": "markdown",
   "metadata": {},
   "source": [
    "### L1 Norm\n",
    "The L1 norm is also called the Manhattan distance. Using the Frobenius norm, we set the value of $n$ to 1 signifying the dimensionality as 1. So we get:\n",
    "$$||\\mathbf{M}||_1 = \\sum^N_{i=0}m_i$$\n",
    "$$_{(\\text{Eq. 1.18})}$$"
   ]
  },
  {
   "cell_type": "code",
   "execution_count": null,
   "metadata": {},
   "outputs": [],
   "source": [
    "def l1_norm(vector):\n",
    "    vect_norm = np.sum(vector)\n",
    "    return vect_norm"
   ]
  },
  {
   "cell_type": "code",
   "execution_count": null,
   "metadata": {},
   "outputs": [],
   "source": [
    "v = np.array([1,1,2])\n",
    "\n",
    "## using our l1 function\n",
    "# l1_norm(v)\n",
    "\n",
    "## using our frobenius norm function\n",
    "frobenius_norm(1, v)"
   ]
  },
  {
   "cell_type": "markdown",
   "metadata": {},
   "source": [
    "### L2 Norm\n",
    "The L2 norm or the Euclidean norm, shows the vector magnitude in the 2D plane. Using the Frobenius norm, we set the value of $n$ to 2 signifying the dimensionality as 2. So we get:\n",
    "$$||\\mathbf{M}||_2 = \\Biggl(\\sum^N_{i=0}m_i^2\\Biggr)^{1/2} = \\sqrt{\\sum^N_{i=0}m_i^2}$$\n",
    "$$_{(\\text{Eq. 1.19})}$$"
   ]
  },
  {
   "cell_type": "code",
   "execution_count": null,
   "metadata": {},
   "outputs": [],
   "source": [
    "def l2_norm(vector):\n",
    "    n_sum = np.dot(vector, vector)\n",
    "    vect_norm = np.sqrt(n_sum)\n",
    "    return vect_norm"
   ]
  },
  {
   "cell_type": "code",
   "execution_count": null,
   "metadata": {},
   "outputs": [],
   "source": [
    "v = np.array([1,1,2])\n",
    "frobenius_norm(2, v)"
   ]
  },
  {
   "cell_type": "markdown",
   "metadata": {},
   "source": [
    "Numpy also provides a library for the Frobenius norm. \n",
    "You can check the docs [here](https://numpy.org/doc/stable/reference/generated/numpy.linalg.norm.html)"
   ]
  },
  {
   "cell_type": "code",
   "execution_count": null,
   "metadata": {},
   "outputs": [],
   "source": [
    "np.linalg.norm(v,ord=2)"
   ]
  },
  {
   "cell_type": "markdown",
   "metadata": {},
   "source": [
    "## 6. Visualizing Vectors"
   ]
  },
  {
   "cell_type": "markdown",
   "metadata": {
    "id": "BP35N3TjlNbi"
   },
   "source": [
    "MatPlotLib or MATLab Plotting library is Python's take on MATLabs plotting feature. MatPlotLib can be used vastly from graping values to visualizing several dimensions of data."
   ]
  },
  {
   "cell_type": "markdown",
   "metadata": {
    "id": "yg0YFy_6lNbj"
   },
   "source": [
    "It's not enough just sloving these vectors so might need to visualize them. So we'll use MatPlotLib for that. We'll need to import it first."
   ]
  },
  {
   "cell_type": "code",
   "execution_count": 39,
   "metadata": {
    "id": "a1NPtTDylNbj"
   },
   "outputs": [],
   "source": [
    "import matplotlib.pyplot as plt  ## use this one if not in jupyterlab/notebook\n",
    "# from matplotlib import pyplot as plt\n",
    "import matplotlib"
   ]
  },
  {
   "cell_type": "markdown",
   "metadata": {
    "id": "2fKDcwe-x_Mc"
   },
   "source": [
    "![image](https://matplotlib.org/3.1.0/_images/sphx_glr_named_colors_003.png)"
   ]
  },
  {
   "cell_type": "code",
   "execution_count": 54,
   "metadata": {
    "colab": {
     "base_uri": "https://localhost:8080/",
     "height": 265
    },
    "id": "xVtSuD7BxAEi",
    "outputId": "30b0e68c-1fad-484d-f2ce-54e23e5d8d76"
   },
   "outputs": [
    {
     "data": {
      "image/png": "[encoded data removed]",
      "text/plain": [
       "<Figure size 432x288 with 1 Axes>"
      ]
     },
     "metadata": {
      "needs_background": "light",
      "tags": []
     },
     "output_type": "display_data"
    }
   ],
   "source": [
    "A = [2,-1]\n",
    "B = [5,2]\n",
    "plt.scatter(A[0],A[1], label='A', c='magenta')\n",
    "plt.scatter(B[0],B[1], label='B', c='mediumspringgreen')\n",
    "\n",
    "plt.grid()\n",
    "plt.legend()\n",
    "plt.show()"
   ]
  },
  {
   "cell_type": "code",
   "execution_count": 72,
   "metadata": {
    "colab": {
     "base_uri": "https://localhost:8080/",
     "height": 296
    },
    "id": "yyRPieC6lNbj",
    "outputId": "bc04383b-9394-463b-812e-2f5d9a6d0a30"
   },
   "outputs": [
    {
     "data": {
      "image/png": "[encoded data removed]",
      "text/plain": [
       "<Figure size 432x288 with 1 Axes>"
      ]
     },
     "metadata": {
      "needs_background": "light",
      "tags": []
     },
     "output_type": "display_data"
    }
   ],
   "source": [
    "A = np.array([-5,0])\n",
    "B = np.array([0,5])\n",
    "\n",
    "plt.title(\"Resultant Vector\\nMagnitude:{:.2f}\".format(R_mag))\n",
    "\n",
    "plt.xlim(-15, 15)\n",
    "plt.ylim(-15, 15)\n",
    "# print(B)\n",
    "plt.quiver(0,0, A[0], A[1], angles='xy', scale_units='xy',scale=1, color='red') # Red --> A\n",
    "plt.quiver(A[0], A[1], B[0], B[1],angles='xy', scale_units='xy',scale=1, color='green')\n",
    "R = A+B\n",
    "plt.quiver(0, 0, R[0], R[1],angles='xy', scale_units='xy',scale=1, color='orange')\n",
    "plt.grid()\n",
    "plt.show()"
   ]
  },
  {
   "cell_type": "markdown",
   "metadata": {
    "id": "dq7_cLjwzr9x"
   },
   "source": [
    "$\\sqrt{A^2+B^2+C^2}$"
   ]
  },
  {
   "cell_type": "code",
   "execution_count": 66,
   "metadata": {
    "colab": {
     "base_uri": "https://localhost:8080/"
    },
    "id": "5ZWQCAKj1LL7",
    "outputId": "47720484-0398-40e8-e1a2-0fe3486c55bb"
   },
   "outputs": [
    {
     "data": {
      "text/plain": [
       "array([-5,  5])"
      ]
     },
     "execution_count": 66,
     "metadata": {
      "tags": []
     },
     "output_type": "execute_result"
    }
   ],
   "source": [
    "R"
   ]
  },
  {
   "cell_type": "code",
   "execution_count": 70,
   "metadata": {
    "colab": {
     "base_uri": "https://localhost:8080/"
    },
    "id": "jLArAeHOznbs",
    "outputId": "c60fde89-5273-451d-b424-2c9d89cce7ba"
   },
   "outputs": [
    {
     "data": {
      "text/plain": [
       "-1.0"
      ]
     },
     "execution_count": 70,
     "metadata": {
      "tags": []
     },
     "output_type": "execute_result"
    }
   ],
   "source": [
    "R_mag = np.sqrt(np.sum(A**2+B**2)) ##Euclidean Distance / Euclidean Norm\n",
    "rise = R[1]\n",
    "run = R[0]\n",
    "slope = rise/run\n",
    "slope\n",
    "## angle of the vector? arctan(rise/run)"
   ]
  },
  {
   "cell_type": "markdown",
   "metadata": {},
   "source": [
    "## 7. Linear Transformations\n",
    "\n",
    "You can recall that a vector can be scaled or translated through different vector operations. We'll now dwell more on the translation and transformation of multi-dimensional vectors (i.e. matrices). This is possible using matrix operations. Take note that not all operations to matrices or $\\mathbb{R}^2$ vectors are linear. Linear transformations leave the origin fixed and preserve parallelism. Scaling, shearing, rotation and reflexion of a plane are examples of linear transformations.  Let's try to revisit them in this notebook. \n",
    "\n",
    "References: <br/>\n",
    "<a href=\"https://mmas.github.io/linear-transformations-numpy\"> Linear transformations in Numpy </a>"
   ]
  },
  {
   "cell_type": "markdown",
   "metadata": {},
   "source": [
    "### 2D Transformations\n",
    "\n",
    "There are two prime requirements for linear geometric translations:\n",
    "1. Vectors remain linear upon applying the linear function\n",
    "2. The origin of the vector does not change.\n",
    "\n",
    "To make representation easier, I have provided a user-defined function for plotting the quivers of the vectors. The function takes in the matrix we wish to transform and a transformation matrix. If no transformation matrix is provided, the default is an identity matrix."
   ]
  },
  {
   "cell_type": "code",
   "execution_count": null,
   "metadata": {},
   "outputs": [],
   "source": [
    "def plot_quiv(x,t_mat=np.eye(2)):\n",
    "    x_prime = x @ t_mat\n",
    "    size= (2,2)\n",
    "    plt.figure(figsize=(4,4))\n",
    "\n",
    "    plt.xlim(-size[0],size[0])\n",
    "    plt.ylim(-size[1],size[1])\n",
    "    plt.xticks(np.arange((-size[0]), size[0]+1, 1.0))\n",
    "    plt.yticks(np.arange((-size[1]), size[1]+1, 1.0))\n",
    "\n",
    "\n",
    "    plt.quiver([0,0],[0,0], x_prime[0,:], x_prime[1,:], \n",
    "               angles='xy', scale_units='xy',scale=1, \n",
    "               color=['red','blue'])## use column spaces\n",
    "    plt.grid()\n",
    "    plt.show()"
   ]
  },
  {
   "cell_type": "code",
   "execution_count": null,
   "metadata": {},
   "outputs": [],
   "source": [
    "A = np.array([\n",
    "    [1, 0],\n",
    "    [0, 1]\n",
    "])\n",
    "\n",
    "plot_quiv(A)"
   ]
  },
  {
   "cell_type": "markdown",
   "metadata": {},
   "source": [
    "**Translation Matrix**. \n",
    "The translation matrix can be considered as a function to transform a vector. It can be modeled as:\n",
    "$$F_{\\text{tranlaste}} = \\begin{pmatrix} -1 & 0 \\\\ 0 & -1\\end{pmatrix}$$\n",
    "$$_{(\\text{Eq. 1.20})}$$\n",
    "Thus if we *apply* the translation onto the vector $B$ we get:\n",
    "$$B_{\\text{translated}} = F_{\\text{tranlaste}} \\cdot B$$\n",
    "$$_{(\\text{Eq. 1.21})}$$"
   ]
  },
  {
   "cell_type": "code",
   "execution_count": null,
   "metadata": {},
   "outputs": [],
   "source": [
    "### Repositioning / Translation\n",
    "\n",
    "t_mat = np.array([\n",
    "    [-1,0],\n",
    "    [0,-1]\n",
    "]) ### -1 * I ## scalar matrix\n",
    "B = np.array([\n",
    "              [1,0],\n",
    "              [0,1]\n",
    "])\n",
    "plot_quiv(t_mat@B)\n",
    "print(t_mat@B)"
   ]
  },
  {
   "cell_type": "markdown",
   "metadata": {},
   "source": [
    "**Shear Matrix**. \n",
    "The shear matrix can be considered as a function to transform a vector similar to the translation matrix. It can be modeled as:\n",
    "$$F_{\\text{tranlaste}} = \\begin{pmatrix} 1 & 1 \\\\ 1 & 1\\end{pmatrix}$$\n",
    "$$_{(\\text{Eq. 1.22})}$$\n",
    "Thus if we *apply* the translation onto the vector $B$ we get:\n",
    "$$B_{\\text{sheared}} = F_{\\text{shear}} \\cdot B$$\n",
    "$$_{(\\text{Eq. 1.23})}$$"
   ]
  },
  {
   "cell_type": "code",
   "execution_count": null,
   "metadata": {},
   "outputs": [],
   "source": [
    "# Transformation Matrices\n",
    "shear1 = np.array([\n",
    "    [1,1],\n",
    "    [1,1]\n",
    "])\n",
    "shear2 = np.array([\n",
    "    [2,0],\n",
    "    [2,-1]\n",
    "])\n",
    "plot_quiv(B)\n",
    "print(shear2@B)\n",
    "plot_quiv(B, shear2)\n"
   ]
  },
  {
   "cell_type": "markdown",
   "metadata": {},
   "source": [
    "**Scaling Matrix/ Scalar Matrix**. \n",
    "A scalar matrix is similar to a simple scalar operation which can be modeled as:\n",
    "$$F_{\\text{scale}} = s \\cdot \\begin{pmatrix} 1 & 0 \\\\ 0 & 1\\end{pmatrix} = s\\cdot I$$\n",
    "$$_{(\\text{Eq. 1.24})}$$\n",
    "Thus if we *apply* the translation onto the vector $B$ we get:\n",
    "$$B_{\\text{scaled}} = F_{\\text{scale}} \\cdot B$$\n",
    "$$_{(\\text{Eq. 1.25})}$$"
   ]
  },
  {
   "cell_type": "code",
   "execution_count": null,
   "metadata": {},
   "outputs": [],
   "source": [
    "### Scaling\n",
    "\n",
    "scale = np.array([\n",
    "    [2,0],\n",
    "    [0,2]\n",
    "])\n",
    "\n",
    "# scale2 = 0.5*np.eye(2)\n",
    "\n",
    "plot_quiv(B)\n",
    "plot_quiv(B, scale)"
   ]
  },
  {
   "cell_type": "markdown",
   "metadata": {},
   "source": [
    "**Rotation Matrix**. \n",
    "One of the most useful transformation matrices is the rotation matrix since it is parametric similar to the scalar matrix.\n",
    "$$F_{\\text{rotation}}(\\theta) = \\begin{pmatrix} \\cos(\\theta) & -\\sin(\\theta) \\\\ \\sin(\\theta) & \\cos(\\theta)\\end{pmatrix}$$\n",
    "$$_{(\\text{Eq. 1.26})}$$\n",
    "Thus if we *apply* the translation onto the vector $B$ we get:\n",
    "$$B_{\\text{rotated}} = F_{\\text{rotation}}(\\theta) \\cdot B$$\n",
    "$$_{(\\text{Eq. 1.27})}$$"
   ]
  },
  {
   "cell_type": "code",
   "execution_count": null,
   "metadata": {},
   "outputs": [],
   "source": [
    "def rot_matrix(theta):\n",
    "    theta = np.deg2rad(theta)\n",
    "    rot_mat = np.array([\n",
    "        [np.cos(theta), -np.sin(theta)],\n",
    "        [np.sin(theta), np.cos(theta)]\n",
    "    ])\n",
    "    return rot_mat"
   ]
  },
  {
   "cell_type": "code",
   "execution_count": null,
   "metadata": {},
   "outputs": [],
   "source": [
    "rotate = rot_matrix(15)\n",
    "plot_quiv(B)\n",
    "scale = 0.5*np.eye(2)\n",
    "plot_quiv(scale@rotate@B)"
   ]
  },
  {
   "cell_type": "markdown",
   "metadata": {},
   "source": [
    "### 3D Transformations\n",
    "\n",
    "Matrices with three features or variables can be represented by matrices with three columns. Rotation transformations are best seen in these types of matrices where these three dimensions could be represented as `yaw`, `pitch`, and `roll` of a certain object (e.g. drones, planes, etc.)"
   ]
  },
  {
   "cell_type": "code",
   "execution_count": null,
   "metadata": {},
   "outputs": [],
   "source": [
    "## helper function for plotting a three-dimensional vector\n",
    "def plot_3d_quiv(x, azimuth=0, elevation=0):\n",
    "    fig = plt.figure(figsize=(8,8))\n",
    "    ax1 = fig.add_subplot(projection='3d')\n",
    "    ax1.set_xlim([-2, 2])\n",
    "    ax1.set_ylim([-2, 2])\n",
    "    ax1.set_zlim([-2, 2])\n",
    "    ax1.set_xlabel(\"X (roll)\")\n",
    "    ax1.set_ylabel(\"Y (pitch)\")\n",
    "    ax1.set_zlabel(\"Z (yaw)\")\n",
    "\n",
    "    origin = (0,0,0)\n",
    "    ax1.quiver(origin, origin, origin, x[0,:], x[1,:], x[2,:], \n",
    "               arrow_length_ratio=0.1, colors=['red','blue','green'])\n",
    "    plt.grid()\n",
    "    ax1.view_init(azim=azimuth, elev=elevation)    \n",
    "    ax1.set_box_aspect(aspect=None, zoom=0.9)\n",
    "    plt.show()"
   ]
  },
  {
   "cell_type": "code",
   "execution_count": null,
   "metadata": {},
   "outputs": [],
   "source": [
    "X = np.eye(3)\n",
    "t_mat = np.array([\n",
    "    [2,0,0],\n",
    "    [1,2,0],\n",
    "    [1,0,2]\n",
    "])\n",
    "plot_3d_quiv(t_mat@X, 45, 15)"
   ]
  },
  {
   "cell_type": "markdown",
   "metadata": {},
   "source": [
    "However, since the matrix has increased dimensions we would need to modify the rotation matrix $\\text{Eq. 1.26}$. We would need to apply a rotation matrix for each of the component or variable spaces of the matrix (`yaw`, `pitch`, and `roll`.) We represent the rotation matrix here as $R$.\n",
    "\n",
    "$$R_{\\text{roll}}(\\theta_{\\text{roll}})= \\begin{pmatrix} 1 & 0 & 0 \\\\ 0& \\cos{\\theta_{\\text{roll}}}& -\\sin{\\theta_{\\text{roll}}} \\\\\n",
    "0 & \\sin{\\theta_{\\text{roll}}} & \\cos{\\theta_{\\text{roll}}}\\end{pmatrix}$$\n",
    "$$_{(\\text{Eq. 1.28})}$$\n",
    "\n",
    "$$R_{\\text{pitch}}(\\theta_{\\text{pitch}})= \n",
    "\\begin{pmatrix} \\cos{\\theta_{\\text{pitch}}}& 0& \\sin{\\theta_{\\text{pitch}}} \\\\ \n",
    "0& 1& 0 \\\\\n",
    "-\\sin{\\theta_{\\text{pitch}}} & 0 & \\cos{\\theta_{\\text{pitch}}}\n",
    "\\end{pmatrix}$$\n",
    "$$_{(\\text{Eq. 1.29})}$$\n",
    "\n",
    "$$R_{\\text{yaw}}(\\theta_{\\text{yaw}})= \n",
    "\\begin{pmatrix} \n",
    "\\cos\\theta_{\\text{yaw}} & -\\sin\\theta_{\\text{yaw}} & 0 \\\\\n",
    "\\sin\\theta_{\\text{yaw}} & \\cos\\theta_{\\text{yaw}} & 0 \\\\\n",
    "0 & 0 & 1\n",
    "\\end{pmatrix}$$\n",
    "$$_{(\\text{Eq. 1.30})}$$"
   ]
  },
  {
   "cell_type": "code",
   "execution_count": null,
   "metadata": {},
   "outputs": [],
   "source": [
    "## helper function to apply the rotation matrix for every axis of the object\n",
    "def rot_matrix_3d(roll, pitch, yaw):\n",
    "    alpha = [np.deg2rad(roll), np.deg2rad(pitch), np.deg2rad(yaw)]\n",
    "    roll = np.array([\n",
    "        [1,0,0],\n",
    "        [0, np.cos(alpha[0]), -np.sin(alpha[0])],\n",
    "        [0, np.sin(alpha[0]), np.cos(alpha[0])]\n",
    "    ])\n",
    "    pitch = np.array([\n",
    "        [np.cos(alpha[1]), 0, np.sin(alpha[1])],\n",
    "        [0 ,1 ,0],\n",
    "        [-np.sin(alpha[1]), 0, np.cos(alpha[1])]\n",
    "    ])\n",
    "    yaw = np.array([\n",
    "        [np.cos(alpha[2]), -np.sin(alpha[2]), 0],\n",
    "        [np.sin(alpha[2]), np.cos(alpha[2]), 0],\n",
    "        [0,0,1]\n",
    "    ])\n",
    "    return roll, pitch, yaw"
   ]
  },
  {
   "cell_type": "markdown",
   "metadata": {},
   "source": [
    "**Linear Transformation Practice**\n",
    "\n",
    "You can try to modify matrix $M$ to form a shape similar to an object you like. You can change the parameters of the `rot_matrix_3d` to either rotate your object (in degrees) for either its roll, pitch, or yaw)."
   ]
  },
  {
   "cell_type": "code",
   "execution_count": null,
   "metadata": {},
   "outputs": [],
   "source": [
    "## Let's say for example M is an airplane.\n",
    "M = np.array([\n",
    "    [3,0,0], ## red (body of a plane)\n",
    "    [0,1.5,0], ## green (rudder of a plane)\n",
    "    [0,0,1] ## blue (wing of a plane)\n",
    "])\n",
    "\n",
    "r_x, r_y, r_z = rot_matrix_3d(roll=0,pitch=0,yaw=30)\n",
    "rotation_matrix = r_x @ r_y @ r_z\n",
    "airplane_simul = rotation_matrix@M\n",
    "plot_3d_quiv(airplane_simul, \n",
    "             azimuth=45,elevation=30\n",
    "            )"
   ]
  }
 ],
 "metadata": {
  "colab": {
   "include_colab_link": true,
   "name": "LinAlg Lab 2.ipynb",
   "provenance": []
  },
  "kernelspec": {
   "display_name": "Python 3 (ipykernel)",
   "language": "python",
   "name": "python3"
  },
  "language_info": {
   "codemirror_mode": {
    "name": "ipython",
    "version": 3
   },
   "file_extension": ".py",
   "mimetype": "text/x-python",
   "name": "python",
   "nbconvert_exporter": "python",
   "pygments_lexer": "ipython3",
   "version": "3.11.3"
  },
  "vscode": {
   "interpreter": {
    "hash": "2043299c89c8cd0b4d1a6f5cf4529bd58e6a4e0fe3181a25e0d328c821cdc5c5"
   }
  }
 },
 "nbformat": 4,
 "nbformat_minor": 4
}
